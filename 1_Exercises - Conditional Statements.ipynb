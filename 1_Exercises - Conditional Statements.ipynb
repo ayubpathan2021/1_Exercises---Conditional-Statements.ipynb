{
 "cells": [
  {
   "cell_type": "raw",
   "id": "252528e5-b58e-4b7a-80af-ba3596491da0",
   "metadata": {},
   "source": [
    "1. Ask the user to input a number (should be integer). Check if the number is even or odd. Remember that 0 is neither even nor odd. Note, when you would use the `input` function, by default it is string. You would have to use type conversion to convert it into integer."
   ]
  },
  {
   "cell_type": "code",
   "execution_count": 34,
   "id": "a905334e-e601-46e9-86a3-ee8a97886070",
   "metadata": {},
   "outputs": [
    {
     "name": "stdin",
     "output_type": "stream",
     "text": [
      "Enter the number 4\n"
     ]
    },
    {
     "name": "stdout",
     "output_type": "stream",
     "text": [
      "Number is even\n"
     ]
    }
   ],
   "source": [
    "    num = int(input(\"Enter the number\"))\n",
    "    if num%2 == 0 and num !=0:\n",
    "        print('Number is even')        \n",
    "    elif num == 0:\n",
    "        print('0 is neither even nor odd')\n",
    "    else:\n",
    "        print('Number is odd')"
   ]
  },
  {
   "cell_type": "raw",
   "id": "dbb3dff4-d93c-4937-88c3-c750e65f0357",
   "metadata": {},
   "source": [
    "2. Ask the user to input a number (should be integer). Check whether the number is zero, positive or negative."
   ]
  },
  {
   "cell_type": "code",
   "execution_count": 30,
   "id": "2f9ee4f2-056a-4f3a-acc7-60035b4b6e35",
   "metadata": {},
   "outputs": [
    {
     "name": "stdin",
     "output_type": "stream",
     "text": [
      "Enter a number 0\n"
     ]
    },
    {
     "name": "stdout",
     "output_type": "stream",
     "text": [
      "Given number is 0\n"
     ]
    }
   ],
   "source": [
    "try:\n",
    "    num = int(input('Enter a number'))\n",
    "    if num > 0:\n",
    "        print('Given number is:Positive')\n",
    "    elif num < 0:\n",
    "        print ('Given number is Negative')\n",
    "    elif num == 0:\n",
    "        print('Given number is 0')\n",
    "except:\n",
    "    print('Enter valid number')"
   ]
  },
  {
   "cell_type": "raw",
   "id": "b963fbf4-5faa-44a7-beb4-92e43e48b4b2",
   "metadata": {},
   "source": [
    "3. A school has following grading system:\n",
    "a. Below 25 - F\n",
    "b. 25 to 45 - E\n",
    "c. 45 to 60 - D\n",
    "d. 60 to 75 - C\n",
    "e. 75 to 90 - B\n",
    "f. Above 90 - A\n",
    "Ask user to enter marks (assuming the marks are between 0 and 100) and print the corresponding grade."
   ]
  },
  {
   "cell_type": "code",
   "execution_count": 31,
   "id": "9c8c0f8e-7300-4560-a7ff-6fad767741d6",
   "metadata": {},
   "outputs": [
    {
     "name": "stdin",
     "output_type": "stream",
     "text": [
      "Enter marks: 99\n"
     ]
    },
    {
     "name": "stdout",
     "output_type": "stream",
     "text": [
      "Grade: A\n"
     ]
    }
   ],
   "source": [
    "marks = int(input('Enter marks:'))\n",
    "if marks<25:\n",
    "    print('Grade:F')\n",
    "elif marks>25 and marks<45:\n",
    "    print('Grade: E')\n",
    "elif marks>45 and marks<60:\n",
    "    print('Grade: D')\n",
    "elif marks>60 and marks<75:\n",
    "    print('Grade: C')\n",
    "elif marks>75 and marks<90:\n",
    "    print('Grade: B')\n",
    "else:\n",
    "    print('Grade: A')"
   ]
  },
  {
   "cell_type": "raw",
   "id": "2e069697-3c28-4af7-9cf2-33e04a8317dd",
   "metadata": {},
   "source": [
    "4. In problem 1 we asked you to write a code to enter an integer and then check if that number is even or not. \n",
    "What if the user inputs a wrong input accidentally. Then the code should not break. We should prompt the user \n",
    "if the input entered was incorrect. \n",
    "Now try and make this code more robust by first checking if the entered input is a number or not. If the number \n",
    "entered is an integer, only then check if it is even or not. "
   ]
  },
  {
   "cell_type": "code",
   "execution_count": 35,
   "id": "6fcc5549-b822-4973-aa30-5a84d403e2ec",
   "metadata": {},
   "outputs": [
    {
     "name": "stdin",
     "output_type": "stream",
     "text": [
      "Enter the number a\n"
     ]
    },
    {
     "name": "stdout",
     "output_type": "stream",
     "text": [
      "Enter valid number\n"
     ]
    }
   ],
   "source": [
    "try:\n",
    "    num = int(input(\"Enter the number\"))\n",
    "    if num%2 == 0 and num !=0:\n",
    "        print('Number is even')        \n",
    "    elif num == 0:\n",
    "        print('0 is neither even nor odd')\n",
    "    else:\n",
    "        print('Number is odd')\n",
    "except:\n",
    "    print('Enter valid number')\n",
    "    "
   ]
  }
 ],
 "metadata": {
  "kernelspec": {
   "display_name": "Python 3",
   "language": "python",
   "name": "python3"
  },
  "language_info": {
   "codemirror_mode": {
    "name": "ipython",
    "version": 3
   },
   "file_extension": ".py",
   "mimetype": "text/x-python",
   "name": "python",
   "nbconvert_exporter": "python",
   "pygments_lexer": "ipython3",
   "version": "3.8.8"
  }
 },
 "nbformat": 4,
 "nbformat_minor": 5
}
